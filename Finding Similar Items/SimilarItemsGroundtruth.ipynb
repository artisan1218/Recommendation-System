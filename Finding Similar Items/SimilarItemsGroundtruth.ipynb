{
 "cells": [
  {
   "cell_type": "code",
   "execution_count": 1,
   "id": "built-veteran",
   "metadata": {},
   "outputs": [],
   "source": [
    "import findspark\n",
    "findspark.init()\n",
    "\n",
    "from pyspark import SparkContext\n",
    "import itertools"
   ]
  },
  {
   "cell_type": "code",
   "execution_count": 3,
   "id": "paperback-seafood",
   "metadata": {},
   "outputs": [],
   "source": [
    "input_file_path = r'C:\\Users\\11921\\Downloads\\data\\train_review.json'\n",
    "\n",
    "sc = SparkContext.getOrCreate()\n",
    "bid_uid_pair = sc.textFile(input_file_path).map(lambda line:json.loads(line))\\\n",
    "                        .map(lambda jsonLine:(jsonLine['business_id'],jsonLine['user_id']))\\\n",
    "                        .groupByKey().mapValues(lambda userList: list(set(userList))).collect()"
   ]
  },
  {
   "cell_type": "code",
   "execution_count": 10,
   "id": "dress-appraisal",
   "metadata": {},
   "outputs": [
    {
     "data": {
      "text/plain": [
       "10253"
      ]
     },
     "execution_count": 10,
     "metadata": {},
     "output_type": "execute_result"
    }
   ],
   "source": [
    "bid_uid_dict = dict()\n",
    "for pair in bid_uid_pair:\n",
    "    bid = pair[0]\n",
    "    uid_list = pair[1]\n",
    "    bid_uid_dict[bid] = uid_list\n",
    "len(bid_uid_dict)"
   ]
  },
  {
   "cell_type": "code",
   "execution_count": 13,
   "id": "operational-currency",
   "metadata": {},
   "outputs": [
    {
     "data": {
      "text/plain": [
       "52556878"
      ]
     },
     "execution_count": 13,
     "metadata": {},
     "output_type": "execute_result"
    }
   ],
   "source": [
    "bid_list = list(bid_uid_dict.keys())\n",
    "bid_candidate_tuple_list = list(itertools.combinations(bid_list, 2))\n",
    "len(bid_candidate_tuple_list)"
   ]
  },
  {
   "cell_type": "code",
   "execution_count": null,
   "id": "dietary-insight",
   "metadata": {},
   "outputs": [],
   "source": [
    "ground_truth_list = list()\n",
    "for candidate_pair in bid_candidate_tuple_list:\n",
    "    can1 = candidate_pair[0]\n",
    "    can2 = candidate_pair[1]\n",
    "    ul1 = bid_uid_dict[can1]\n",
    "    ul2 = bid_uid_dict[can2]\n",
    "    jaccard = len(set(ul1).intersection(set(ul2)))/len(set(ul1).union(set(ul2)))\n",
    "    if jaccard >= 0.05:\n",
    "        ground_truth_list.append((can1, can2, jaccard))"
   ]
  },
  {
   "cell_type": "code",
   "execution_count": 19,
   "id": "foreign-millennium",
   "metadata": {},
   "outputs": [],
   "source": [
    "fileWritter = open('task1GroudTruth.txt','w')\n",
    "i = 0\n",
    "for threeTuple in ground_truth_list:\n",
    "    if i!=len(ground_truth_list)-1:\n",
    "        fileWritter.write(str(threeTuple)+'\\n')\n",
    "    else:\n",
    "        fileWritter.write(str(threeTuple)+'\\n')\n",
    "    i+=1\n",
    "fileWritter.close()"
   ]
  },
  {
   "cell_type": "code",
   "execution_count": null,
   "id": "pharmaceutical-october",
   "metadata": {},
   "outputs": [],
   "source": []
  }
 ],
 "metadata": {
  "kernelspec": {
   "display_name": "Python 3",
   "language": "python",
   "name": "python3"
  },
  "language_info": {
   "codemirror_mode": {
    "name": "ipython",
    "version": 3
   },
   "file_extension": ".py",
   "mimetype": "text/x-python",
   "name": "python",
   "nbconvert_exporter": "python",
   "pygments_lexer": "ipython3",
   "version": "3.8.5"
  }
 },
 "nbformat": 4,
 "nbformat_minor": 5
}
